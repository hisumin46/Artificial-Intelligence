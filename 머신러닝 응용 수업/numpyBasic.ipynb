{
 "cells": [
  {
   "cell_type": "markdown",
   "metadata": {},
   "source": [
    "## Numpy 기초\n",
    "### 202045062  김수민"
   ]
  },
  {
   "cell_type": "markdown",
   "metadata": {},
   "source": [
    "- 머신러닝의 주요 알고리즘은 선형대수와 통계 기반\n",
    "- Numerical Python = Numpy\n",
    "- 대량 데이터의 배열 연산을 가능하게 함 → 빠른 연산 속도\n",
    "- C/C++ 과 호환 API 제공\n",
    "- 다양한 데이터 핸들링 기능 제공 주로 Pandas"
   ]
  },
  {
   "cell_type": "markdown",
   "metadata": {},
   "source": [
    "### ndarray"
   ]
  },
  {
   "cell_type": "markdown",
   "metadata": {},
   "source": [
    "#### import"
   ]
  },
  {
   "cell_type": "code",
   "execution_count": 1,
   "metadata": {},
   "outputs": [],
   "source": [
    "import numpy as np"
   ]
  },
  {
   "cell_type": "markdown",
   "metadata": {},
   "source": [
    "#### narray\n",
    "- 넘파이의 기반 데이터 타입은 ndarray → 다차원 배열 생성 및 연산\n",
    "    \n",
    "    ![Untitled](ndarray.png)\n",
    "    - 1차원 행렬은 (4, ) 뒤에를 안씀 왜냐면 세로로 세운거랑 다름 없음\n",
    "    - 2차원은 (2,3)\n",
    "    - 3차원은 (4,3,2)\n",
    "    - 세로부터 인자 값을 준다\n",
    "- 넘파이 array() 파이썬 리스트 같은 다양한 인자를 ndarray로 변환\n",
    "- `.shape`는 `ndarray`의 크기를 튜플 형태로 가지고 있음"
   ]
  },
  {
   "cell_type": "code",
   "execution_count": 4,
   "metadata": {},
   "outputs": [
    {
     "name": "stdout",
     "output_type": "stream",
     "text": [
      "array1 type : <class 'numpy.ndarray'>\n",
      "array1 shape : (3,)\n",
      "array2 type : <class 'numpy.ndarray'>\n",
      "array2 shape : (2, 3)\n",
      "array3 type : <class 'numpy.ndarray'>\n",
      "array3 shape : (1, 3)\n"
     ]
    }
   ],
   "source": [
    "array1 = np.array([1,2,3])\n",
    "print(f\"array1 type : {type(array1)}\")\n",
    "print(f\"array1 shape : {array1.shape}\")\n",
    "\n",
    "array2 = np.array([[1,2,3], [2,3,4]])\n",
    "print(f\"array2 type : {type(array2)}\")\n",
    "print(f\"array2 shape : {array2.shape}\")\n",
    "\n",
    "array3 = np.array([[1,2,3]])\n",
    "print(f\"array3 type : {type(array3)}\")\n",
    "print(f\"array3 shape : {array3.shape}\")"
   ]
  },
  {
   "cell_type": "markdown",
   "metadata": {},
   "source": [
    "array1\n",
    "  | 1 | 2 | 3 |\n",
    "  | --- | --- | --- |\n",
    "\n",
    "array2\n",
    "  | 1 | 2 | 3 |\n",
    "  | --- | --- | --- |\n",
    "  | 2 | 3 | 4 |\n",
    "\n",
    "array3\n",
    "  | 1 | 2 | 3 |\n",
    "  | --- | --- | --- |\n",
    "\n",
    "  array1와 array3는 보이는 형태는 같지만 1차원 array와 2차원 array"
   ]
  },
  {
   "cell_type": "markdown",
   "metadata": {},
   "source": [
    "#### ndim"
   ]
  },
  {
   "cell_type": "code",
   "execution_count": 41,
   "metadata": {},
   "outputs": [
    {
     "name": "stdout",
     "output_type": "stream",
     "text": [
      "1 1 1\n",
      "array1 : 1차원, array2 : 1차원, array3: 1차원\n"
     ]
    }
   ],
   "source": [
    "print(array1.ndim, array2.ndim, array3.ndim)\n",
    "print(f\"array1 : {array1.ndim}차원, array2 : {array2.ndim}차원, array3: {array3.ndim}차원\")"
   ]
  },
  {
   "cell_type": "markdown",
   "metadata": {},
   "source": [
    "#### 데이터 타입\n",
    "- ndarray 내 데이터 값은 숫자, 문자, bool 모두 가능\n",
    "- 연산은 같은 데이터 타입만 가능 $int *float$ 불가\n",
    "- .dtype 속성으로 확인가능"
   ]
  },
  {
   "cell_type": "markdown",
   "metadata": {},
   "source": [
    "- 데이터 유형이 섞여있으면 크기가 더 큰 데이터 타입으로 일괄 적용\n",
    "- int + string / int + float 리스트 ndarray 로 변경"
   ]
  },
  {
   "cell_type": "code",
   "execution_count": 8,
   "metadata": {},
   "outputs": [
    {
     "name": "stdout",
     "output_type": "stream",
     "text": [
      "<class 'set'>\n",
      "<class 'numpy.ndarray'>\n"
     ]
    },
    {
     "data": {
      "text/plain": [
       "(array({1, 2, 3}, dtype=object), dtype('O'))"
      ]
     },
     "execution_count": 8,
     "metadata": {},
     "output_type": "execute_result"
    }
   ],
   "source": [
    "list1 = {1,2,3}\n",
    "print(type(list1))\n",
    "array1 = np.array(list1)\n",
    "print(type(array1))\n",
    "array1, array1.dtype"
   ]
  },
  {
   "cell_type": "markdown",
   "metadata": {},
   "source": [
    "- u21 은 유니코드 형태"
   ]
  },
  {
   "cell_type": "code",
   "execution_count": 9,
   "metadata": {},
   "outputs": [
    {
     "name": "stdout",
     "output_type": "stream",
     "text": [
      "['1' '2' 'test'] <U11\n",
      "[1. 2. 3.] float64\n"
     ]
    }
   ],
   "source": [
    "list2 = [1,2,'test']\n",
    "array2 = np.array(list2)\n",
    "print(array2, array2.dtype)\n",
    "\n",
    "list3 = [1,2,3.0]\n",
    "array3 = np.array(list3)\n",
    "print(array3, array3.dtype)"
   ]
  },
  {
   "cell_type": "markdown",
   "metadata": {},
   "source": [
    "- int32 → float64 → int32\n",
    "- `astype` 형변환"
   ]
  },
  {
   "cell_type": "code",
   "execution_count": 10,
   "metadata": {},
   "outputs": [
    {
     "name": "stdout",
     "output_type": "stream",
     "text": [
      "[1. 2. 3.] float64\n",
      "[1 2 3] int32\n",
      "[1 2 3] int32\n"
     ]
    }
   ],
   "source": [
    "array_int = np.array([1,2,3])\n",
    "array_float = array_int.astype(\"float64\")\n",
    "print(array_float, array_float.dtype)\n",
    "\n",
    "array_int1 = array_float.astype(\"int32\")\n",
    "print(array_int1, array_int1.dtype)\n",
    "\n",
    "array_float1 = np.array([1.1, 2.1, 3.1])\n",
    "array_int2 = array_float1.astype(\"int32\")\n",
    "print(array_int2, array_int2.dtype)"
   ]
  },
  {
   "cell_type": "markdown",
   "metadata": {},
   "source": [
    "#### arrange\n",
    "- 특정 크기와 차원을 가진 ndarray를 연속값이나 0또는 1로 초기화해 쉽게 생성\n",
    "- 주로 테스트용 데이터 또는 대규모 데이터 일괄 초기화 때 사용\n",
    "- arrange() = range()와 유사\n",
    "- array를 range로 표현"
   ]
  },
  {
   "cell_type": "code",
   "execution_count": 11,
   "metadata": {},
   "outputs": [
    {
     "name": "stdout",
     "output_type": "stream",
     "text": [
      "[0 1 2 3 4 5 6 7 8 9]\n",
      "int32 (10,)\n"
     ]
    }
   ],
   "source": [
    "seq_array = np.arange(10)\n",
    "print(seq_array)\n",
    "print(seq_array.dtype, seq_array.shape)"
   ]
  },
  {
   "cell_type": "markdown",
   "metadata": {},
   "source": [
    "#### zeros, ones\n",
    "- zeros() → shape만 입력하면 모든값을 0으로 채운 ndrarray 반환\n",
    "- ones() → shape갑승ㄹ 입력하면 모든값을 1으로 채운 ndrarray 반환\n",
    "- .dtype으로 정해주지 않으면 기본적으로 float64"
   ]
  },
  {
   "cell_type": "code",
   "execution_count": 13,
   "metadata": {},
   "outputs": [
    {
     "name": "stdout",
     "output_type": "stream",
     "text": [
      "[[0 0]\n",
      " [0 0]\n",
      " [0 0]]\n",
      "int32 (3, 2)\n",
      "[[1. 1.]\n",
      " [1. 1.]\n",
      " [1. 1.]]\n",
      "float64 (3, 2)\n"
     ]
    }
   ],
   "source": [
    "zero_array = np.zeros((3,2), dtype=\"int32\")\n",
    "print(zero_array)\n",
    "print(zero_array.dtype, zero_array.shape)\n",
    "\n",
    "one_array = np.ones((3,2))\n",
    "print(one_array)\n",
    "print(one_array.dtype, one_array.shape)"
   ]
  },
  {
   "cell_type": "markdown",
   "metadata": {},
   "source": [
    "#### reshape()\n",
    "- ndarray를 특정 차원 및 크기로 변환\n",
    "- 1차원 ndarray를 2*5 / 5*2 형태로 변환\n",
    "- 지정된 사이즈로 변경이 불가능하면 오류 발생 - 개수가 맞아야됨"
   ]
  },
  {
   "cell_type": "code",
   "execution_count": 14,
   "metadata": {},
   "outputs": [
    {
     "name": "stdout",
     "output_type": "stream",
     "text": [
      "array1 : \n",
      "  [0 1 2 3 4 5 6 7 8 9]\n",
      "array2 : \n",
      "  [[0 1 2 3 4]\n",
      " [5 6 7 8 9]]\n",
      "array3 : \n",
      "  [[0 1]\n",
      " [2 3]\n",
      " [4 5]\n",
      " [6 7]\n",
      " [8 9]]\n"
     ]
    }
   ],
   "source": [
    "array1 = np.arange(10)\n",
    "print(\"array1 : \\n \", array1)\n",
    "\n",
    "array2 = array1.reshape(2,5)\n",
    "print(\"array2 : \\n \", array2)\n",
    "\n",
    "array3 = array1.reshape(5,2)\n",
    "print(\"array3 : \\n \", array3)"
   ]
  },
  {
   "cell_type": "markdown",
   "metadata": {},
   "source": [
    "- 인자를 -1로 적용하면 ndarray와 호환되는 새로운 shape으로 변환"
   ]
  },
  {
   "cell_type": "code",
   "execution_count": 15,
   "metadata": {},
   "outputs": [
    {
     "name": "stdout",
     "output_type": "stream",
     "text": [
      "array1 : \n",
      "  [0 1 2 3 4 5 6 7 8 9]\n",
      "array2 : \n",
      "  [[0 1 2 3 4]\n",
      " [5 6 7 8 9]]\n",
      "array3 : \n",
      "  [[0 1]\n",
      " [2 3]\n",
      " [4 5]\n",
      " [6 7]\n",
      " [8 9]]\n"
     ]
    }
   ],
   "source": [
    "array1 = np.arange(10)\n",
    "print(\"array1 : \\n \", array1)\n",
    "\n",
    "array2 = array1.reshape(-1,5)\n",
    "print(\"array2 : \\n \", array2)\n",
    "\n",
    "array3 = array1.reshape(5,-1)\n",
    "print(\"array3 : \\n \", array3)"
   ]
  },
  {
   "cell_type": "markdown",
   "metadata": {},
   "source": [
    "- -1 인자는 reshape(-1,1)와 같은 형태로 자주 사용\n",
    "- reshape(-1, 1)원본은 ndarray가 어떤 형태라도 2차원이고 여러개의 로우를 가지게 되며 반드시 1개의 컬럼을 가진 ndarray로 변환됨을 보장"
   ]
  },
  {
   "cell_type": "code",
   "execution_count": 18,
   "metadata": {},
   "outputs": [
    {
     "name": "stdout",
     "output_type": "stream",
     "text": [
      "array3d : \n",
      " [[[0, 1], [2, 3]], [[4, 5], [6, 7]]]\n",
      "array5 : \n",
      " [[0], [1], [2], [3], [4], [5], [6], [7]]\n",
      "array5 shape: \n",
      " (8, 1)\n",
      "array6 : \n",
      " [[0], [1], [2], [3], [4], [5], [6], [7]]\n",
      "array6 shape: \n",
      " (8, 1)\n"
     ]
    }
   ],
   "source": [
    "array1 = np.arange(8)\n",
    "array3d = array1.reshape((2,2,2))\n",
    "print(\"array3d : \\n\", array3d.tolist())\n",
    "\n",
    "# 3차원 -> 2차원 \n",
    "array5 = array3d.reshape(-1,1)\n",
    "print(\"array5 : \\n\", array5.tolist())\n",
    "print(\"array5 shape: \\n\", array5.shape)\n",
    "\n",
    "# 1차원 -> 2차원 \n",
    "array6 = array1.reshape(-1,1)\n",
    "print(\"array6 : \\n\", array6.tolist())\n",
    "print(\"array6 shape: \\n\", array6.shape)"
   ]
  },
  {
   "cell_type": "markdown",
   "metadata": {},
   "source": [
    "#### ndarray의 데이터 인덱싱\n",
    "\n",
    "1. 특정 데이터만 추출 - 해당 위치 인덱스 값 지정 시 해당 위치 데이터 변환\n",
    "2. 슬리이싱\n",
    "3. 팬시 인덱싱 - 일정한 인덱싱 집합을 리스트 또는 ndarray 형태로 지정하혀 해당 위치에 있는 데이터의 ndarray를 변환\n",
    "4. 불린 인덱싱 - true/false 값 인덱싱 집합을 기반으로 trye에 해당하는 인덱싱 위치에 있는 데이터 ndarray를 반환"
   ]
  },
  {
   "cell_type": "markdown",
   "metadata": {},
   "source": [
    "##### 일반 인덱싱\n",
    "- array1[2] 은 데이터값"
   ]
  },
  {
   "cell_type": "code",
   "execution_count": 20,
   "metadata": {},
   "outputs": [
    {
     "name": "stdout",
     "output_type": "stream",
     "text": [
      "[1 2 3 4 5 6 7 8 9]\n",
      "3\n",
      "<class 'numpy.int32'>\n",
      "맨뒤의 값 : 9, 맨뒤에서 두번째 값 : 8\n"
     ]
    }
   ],
   "source": [
    "array1 = np.arange(start=1, stop=10)\n",
    "print(array1)\n",
    "\n",
    "value = array1[2]\n",
    "print(value)\n",
    "print(type(value))\n",
    "\n",
    "print(f\"맨뒤의 값 : {array1[-1]}, 맨뒤에서 두번째 값 : {array1[-2]}\")"
   ]
  },
  {
   "cell_type": "markdown",
   "metadata": {},
   "source": [
    "##### 데이터 값 바꾸기"
   ]
  },
  {
   "cell_type": "code",
   "execution_count": 21,
   "metadata": {},
   "outputs": [
    {
     "name": "stdout",
     "output_type": "stream",
     "text": [
      "[9 2 3 4 5 6 7 8 0]\n"
     ]
    }
   ],
   "source": [
    "array1[0] = 9\n",
    "array1[8] = 0\n",
    "print(array1)"
   ]
  },
  {
   "cell_type": "markdown",
   "metadata": {},
   "source": [
    "##### 다차원 ndarray에서 단일값 추출\n",
    "\n",
    "- 1차원 → 2차원 3*3으로 변환 후 2차원에서 추출"
   ]
  },
  {
   "cell_type": "code",
   "execution_count": 22,
   "metadata": {},
   "outputs": [
    {
     "name": "stdout",
     "output_type": "stream",
     "text": [
      "[[1 2 3]\n",
      " [4 5 6]\n",
      " [7 8 9]]\n",
      "row=0, col=0 :  1\n",
      "row=0, col=1 :  2\n",
      "row=1, col=0 :  4\n",
      "row=1, col=1 :  5\n"
     ]
    }
   ],
   "source": [
    "array1d = np.arange(1,10)\n",
    "array2d = array1d.reshape(3,3)\n",
    "print(array2d)\n",
    "\n",
    "print(\"row=0, col=0 : \", array2d[0,0])\n",
    "print(\"row=0, col=1 : \", array2d[0,1])\n",
    "print(\"row=1, col=0 : \", array2d[1,0])\n",
    "print(\"row=1, col=1 : \", array2d[1,1])"
   ]
  },
  {
   "cell_type": "markdown",
   "metadata": {},
   "source": [
    "##### 슬라이싱하여 추출"
   ]
  },
  {
   "cell_type": "code",
   "execution_count": 23,
   "metadata": {},
   "outputs": [
    {
     "name": "stdout",
     "output_type": "stream",
     "text": [
      "[9 2 3]\n",
      "<class 'numpy.ndarray'>\n"
     ]
    }
   ],
   "source": [
    "array1 = np.arange(1,10)\n",
    "array3 = array1[0:3]\n",
    "print(array3)\n",
    "print(type(array3))"
   ]
  },
  {
   "cell_type": "code",
   "execution_count": 24,
   "metadata": {},
   "outputs": [
    {
     "name": "stdout",
     "output_type": "stream",
     "text": [
      "[1 2 3]\n",
      "[4 5 6 7 8 9]\n",
      "[1 2 3 4 5 6 7 8 9]\n"
     ]
    }
   ],
   "source": [
    "array1 = np.arange(1,10)\n",
    "array4 = array1[:3]\n",
    "print(array4)\n",
    "\n",
    "array5 = array1[3:]\n",
    "print(array5)\n",
    "\n",
    "array6 = array1[:]\n",
    "print(array6)"
   ]
  },
  {
   "cell_type": "markdown",
   "metadata": {},
   "source": [
    "##### 2차원 슬라이싱 인덱싱\n",
    "\n",
    "- [row, col]\n",
    "\n",
    "  |  | 0 | 1 | 2 |\n",
    "  | --- | --- | --- | --- |\n",
    "  | 0 | 1 | 2 | 3 |\n",
    "  | 1 | 4 | 5 | 6 |\n",
    "  | 2 | 7 | 8 | 9 |"
   ]
  },
  {
   "cell_type": "code",
   "execution_count": 26,
   "metadata": {},
   "outputs": [
    {
     "name": "stdout",
     "output_type": "stream",
     "text": [
      "array2d : \n",
      " [[1 2 3]\n",
      " [4 5 6]\n",
      " [7 8 9]]\n",
      "array2d[0:2, 0:2]\n",
      " [[1 2]\n",
      " [4 5]]\n",
      "array2d[1:3, 0:3]\n",
      " [[4 5 6]\n",
      " [7 8 9]]\n",
      "array2d[1:3, :]\n",
      " [[4 5 6]\n",
      " [7 8 9]]\n",
      "array2d[:, :]\n",
      " [[1 2 3]\n",
      " [4 5 6]\n",
      " [7 8 9]]\n",
      "array2d[:2, 1:]\n",
      " [[2 3]\n",
      " [5 6]]\n",
      "array2d[:2, 0]\n",
      " [1 4]\n"
     ]
    }
   ],
   "source": [
    "# 2차원 인덱싱\n",
    "array1d = np.arange(start=1, stop=10)\n",
    "array2d = array1d.reshape(3,3)\n",
    "print('array2d : \\n',array2d)\n",
    "\n",
    "print('array2d[0:2, 0:2]\\n', array2d[0:2, 0:2])\n",
    "print('array2d[1:3, 0:3]\\n', array2d[1:3, 0:3])\n",
    "print('array2d[1:3, :]\\n', array2d[1:3, :])\n",
    "print('array2d[:, :]\\n', array2d[:, :])\n",
    "print('array2d[:2, 1:]\\n', array2d[:2, 1:])\n",
    "print('array2d[:2, 0]\\n', array2d[:2, 0])"
   ]
  },
  {
   "cell_type": "markdown",
   "metadata": {},
   "source": [
    "##### 팬시인덱싱\n",
    "\n",
    "- array2[[0,1],2]로우측에 팬시 인덱싱 [0,1] 을 컬럼축에 인덱싱2를 적용 → row, col인덱스가 적용되어 3,6 반환"
   ]
  },
  {
   "cell_type": "code",
   "execution_count": 25,
   "metadata": {},
   "outputs": [
    {
     "name": "stdout",
     "output_type": "stream",
     "text": [
      "array2d : \n",
      " [[1, 2, 3], [4, 5, 6], [7, 8, 9]]\n",
      "array2d[[0,1], 2] =>  [3, 6]\n",
      "array2d[[0,1], 0:2] =>  [[1, 2], [4, 5]]\n",
      "array2d[[0,1]] =>  [[1, 2, 3], [4, 5, 6]]\n"
     ]
    }
   ],
   "source": [
    "print('array2d : \\n',array2d.tolist())\n",
    "array3 = array2d[[0,1], 2]\n",
    "print('array2d[[0,1], 2] => ', array3.tolist())\n",
    "\n",
    "array4 = array2d[[0,1], 0:2]\n",
    "print('array2d[[0,1], 0:2] => ', array4.tolist())\n",
    "\n",
    "array5 = array2d[[0,1]]\n",
    "print('array2d[[0,1]] => ', array5.tolist())"
   ]
  },
  {
   "cell_type": "markdown",
   "metadata": {},
   "source": [
    "##### 불린 인덱싱\n",
    "\n",
    "- 조건 필터링과 검색을 동시에 가능"
   ]
  },
  {
   "cell_type": "code",
   "execution_count": 27,
   "metadata": {},
   "outputs": [
    {
     "name": "stdout",
     "output_type": "stream",
     "text": [
      "array1d > 5 불린 인덱싱 값 :  [7 8 9]\n"
     ]
    }
   ],
   "source": [
    "array1d = np.arange(1, 10)\n",
    "array2 = array1d[array1d > 6]\n",
    "\n",
    "print('array1d > 5 불린 인덱싱 값 : ', array2)"
   ]
  },
  {
   "cell_type": "code",
   "execution_count": 30,
   "metadata": {},
   "outputs": [
    {
     "name": "stdout",
     "output_type": "stream",
     "text": [
      "불린 인덱싱 필터링 결과 [6 7 8 9]\n",
      "일반 인덱싱 필터링 결과 [6 7 8 9]\n"
     ]
    }
   ],
   "source": [
    "boolean_indexes = np.array([False, False, False, False, False, True, True, True, True])\n",
    "array3 = array1d[boolean_indexes]\n",
    "print(\"불린 인덱싱 필터링 결과\", array3)\n",
    "\n",
    "indexes = np.array([5,6,7,8])\n",
    "array4 = array1[indexes]\n",
    "print(\"일반 인덱싱 필터링 결과\", array4)"
   ]
  },
  {
   "cell_type": "markdown",
   "metadata": {},
   "source": [
    "##### 행렬의 정렬 sort(), argsort()\n",
    "\n",
    "- `sort()` → 결과만 반환, `ndarray.sort()` → 정렬을 아예 해버림"
   ]
  },
  {
   "cell_type": "code",
   "execution_count": 34,
   "metadata": {},
   "outputs": [
    {
     "name": "stdout",
     "output_type": "stream",
     "text": [
      "np.sort() 호출 후 반환된 정렬 행렬 :  [1 3 5 9]\n",
      "np.sort() 호출 후 원본 행렬 :  [3 1 9 5]\n",
      "org_array.sort() 호출 후 반환된 행렬 :  None\n",
      "org_array.sort() 호출 후 원본 행렬 :  [1 3 5 9]\n"
     ]
    }
   ],
   "source": [
    "# np.sort\n",
    "org_array = np.array([3,1,9,5])\n",
    "sort_array1 = np.sort(org_array)\n",
    "print('np.sort() 호출 후 반환된 정렬 행렬 : ',sort_array1)\n",
    "print('np.sort() 호출 후 원본 행렬 : ',org_array)\n",
    "\n",
    "# ndarray.sort\n",
    "sort_array2 = org_array.sort()\n",
    "print('org_array.sort() 호출 후 반환된 행렬 : ',sort_array2)\n",
    "print('org_array.sort() 호출 후 원본 행렬 : ',org_array)"
   ]
  },
  {
   "cell_type": "markdown",
   "metadata": {},
   "source": [
    "- 내림 차순은 `::1`\n",
    "- 로우와 칼럼은 `axis=0`, `axis=1`"
   ]
  },
  {
   "cell_type": "code",
   "execution_count": 35,
   "metadata": {},
   "outputs": [
    {
     "name": "stdout",
     "output_type": "stream",
     "text": [
      "내림차순으로 정렬 :  [9 5 3 1]\n",
      "로우 방향으로 정렬 : \n",
      " [[ 7  1]\n",
      " [ 8 12]]\n",
      "칼럼 방향으로 정렬 : \n",
      " [[ 8 12]\n",
      " [ 1  7]]\n"
     ]
    }
   ],
   "source": [
    "# 내림차순 정렬\n",
    "sort_array1_desc = np.sort(org_array)[::-1]\n",
    "print('내림차순으로 정렬 : ', sort_array1_desc)\n",
    "\n",
    "# 로우,칼럼 방향으로 정렬\n",
    "array2d = np.array([[8, 12], [7, 1]])\n",
    "\n",
    "sort_array2d_axis0 = np.sort(array2d, axis = 0)\n",
    "print('로우 방향으로 정렬 : \\n', sort_array2d_axis0)\n",
    "\n",
    "sort_array2d_axis1 = np.sort(array2d, axis = 1)\n",
    "print('칼럼 방향으로 정렬 : \\n', sort_array2d_axis1)"
   ]
  },
  {
   "cell_type": "markdown",
   "metadata": {},
   "source": [
    "- 정렬된 행렬의 인덱스 반환"
   ]
  },
  {
   "cell_type": "code",
   "execution_count": 39,
   "metadata": {},
   "outputs": [
    {
     "name": "stdout",
     "output_type": "stream",
     "text": [
      "<class 'numpy.ndarray'>\n",
      "행렬 정렬 시 원본 행렬의 인덱스 :  [1 0 3 2]\n",
      "행렬 내림차순 정렬 시 원본 행렬의 인덱스 :  [2 3 0 1]\n"
     ]
    }
   ],
   "source": [
    "org_array = np.array([3,1,9,5])\n",
    "sort_indices = np.argsort(org_array)\n",
    "print(type(sort_indices))\n",
    "print('행렬 정렬 시 원본 행렬의 인덱스 : ', sort_indices)\n",
    "\n",
    "# 내림차순\n",
    "sort_indices_desc = np.argsort(org_array)[::-1]\n",
    "print('행렬 내림차순 정렬 시 원본 행렬의 인덱스 : ',sort_indices_desc)"
   ]
  },
  {
   "cell_type": "markdown",
   "metadata": {},
   "source": [
    "##### 행렬 곱 np.dot()"
   ]
  },
  {
   "cell_type": "code",
   "execution_count": 37,
   "metadata": {},
   "outputs": [
    {
     "name": "stdout",
     "output_type": "stream",
     "text": [
      "행렬 내적 결과 : \n",
      " [[ 58  64]\n",
      " [139 154]]\n"
     ]
    }
   ],
   "source": [
    "A = np.array([[1,2,3], [4,5,6]])\n",
    "B = np.array([[7,8], [9,10], [11,12]])\n",
    "\n",
    "print('행렬 내적 결과 : \\n', np.dot(A,B))"
   ]
  },
  {
   "cell_type": "markdown",
   "metadata": {},
   "source": [
    "##### 전치 행렬 transpose()"
   ]
  },
  {
   "cell_type": "code",
   "execution_count": 40,
   "metadata": {},
   "outputs": [
    {
     "name": "stdout",
     "output_type": "stream",
     "text": [
      "A1의 전치 행렬 : \n",
      " [[1 3]\n",
      " [2 4]]\n",
      "A의 전치 행렬 : \n",
      " [[1 4]\n",
      " [2 5]\n",
      " [3 6]]\n",
      "B의 전치 행렬 : \n",
      " [[ 7  9 11]\n",
      " [ 8 10 12]]\n"
     ]
    }
   ],
   "source": [
    "A1 = np.array([[1,2],[3,4]])\n",
    "print('A1의 전치 행렬 : \\n', np.transpose(A1))\n",
    "print('A의 전치 행렬 : \\n', np.transpose(A))\n",
    "print('B의 전치 행렬 : \\n', np.transpose(B))"
   ]
  }
 ],
 "metadata": {
  "kernelspec": {
   "display_name": "Python 3.9.12 ('base')",
   "language": "python",
   "name": "python3"
  },
  "language_info": {
   "codemirror_mode": {
    "name": "ipython",
    "version": 3
   },
   "file_extension": ".py",
   "mimetype": "text/x-python",
   "name": "python",
   "nbconvert_exporter": "python",
   "pygments_lexer": "ipython3",
   "version": "3.9.12"
  },
  "orig_nbformat": 4,
  "vscode": {
   "interpreter": {
    "hash": "fc3f988826e34d50f8212913697013e34bce1c02d89c8e986a169f9fc3324573"
   }
  }
 },
 "nbformat": 4,
 "nbformat_minor": 2
}
