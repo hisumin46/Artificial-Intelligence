{
 "cells": [
  {
   "cell_type": "markdown",
   "metadata": {},
   "source": [
    "### 그리기 함수"
   ]
  },
  {
   "cell_type": "code",
   "execution_count": 1,
   "metadata": {},
   "outputs": [],
   "source": [
    "import numpy as np\n",
    "import cv2"
   ]
  },
  {
   "cell_type": "markdown",
   "metadata": {},
   "source": [
    "#### line(img, pt1, pt2, color)\n",
    "```Python\n",
    "cv2.line(img, pt1, pt2, color, thickness, linType, shift)\n",
    "```\n",
    "- 직선을 그리는 함수\n",
    "- 좌쵸와 색상으로 사용되는 인수는 정수형 튜플이어야함\n",
    "  - `img` : 그릴 대상 행렬\n",
    "  - `pt1` : 시작 좌표\n",
    "  - `pt2` : 끝 좌표\n",
    "  - `color` : 색상\n",
    "  - `thickness` : 선의 두께 `cv2.FILLED` 일경우 색으로 내부를 채움\n",
    "  - `linType` : 선의 형태\n",
    "  - `shift` : 입력 좌표에서 오른쪽 비트 시프트 연산한 결과물 좌표로 지정해서 직선 그림"
   ]
  },
  {
   "cell_type": "markdown",
   "metadata": {},
   "source": [
    "#### line(img, pt1, pt2, color)\n",
    "```Python\n",
    "cv2.rectangle(img, pt1, pt2, color, thickness, linType, shift)\n",
    "```\n",
    "- 직선을 그리는 함수\n",
    "- 좌쵸와 색상으로 사용되는 인수는 정수형 튜플이어야함\n",
    "  - `img` : 그릴 대상 행렬\n",
    "  - `pt1` : 시작 좌표\n",
    "  - `pt2` : 끝 좌표\n",
    "  - `color` : 색상\n",
    "  - `thickness` : 선의 두께 `cv2.FILLED` 일경우 색으로 내부를 채움\n",
    "    <table>\n",
    "      <tr><th></th></tr>\n",
    "    </table>\n",
    "  - `linType` : 선의 형태\n",
    "  - `shift` : 입력 좌표에서 오른쪽 비트 시프트 연산한 결과물 좌표로 지정해서 직선 그림"
   ]
  },
  {
   "cell_type": "code",
   "execution_count": null,
   "metadata": {},
   "outputs": [],
   "source": [
    "blue, green, red = (255, 0, 0), (0, 255, 0), (0, 0, 255)\n",
    "image = np.zeros((400, 600, 3), np.uint8)\n",
    "image[:] = (255, 255, 255)\n",
    "\n",
    "pt1, pt2 = (50, 50), (250, 150) \n",
    "pt3, pt4 = (400, 150), (500,  50)\n",
    "roi = 50, 200, 200, 100\n",
    "\n",
    "# 직선 그리기\n",
    "cv2.line(image, pt1, pt2, red)\n",
    "cv2.line(image, pt3, pt4, green, 3, cv2.LINE_AA)\n",
    "# 사각형 그리기\n",
    "cv2.rectangle(image, pt1, pt2, blue, 3, cv2.LINE_4)\n",
    "cv2.rectangle(image, roi, red, 3, cv2.LINE_8 )\n",
    "cv2.rectangle(image, (400, 200, 100, 100), green, cv2.FILLED )\n",
    "\n",
    "cv2.imshow('Line & Rectangle', image)\n",
    "cv2.waitKey(0)\n",
    "cv2.destroyAllWindows()"
   ]
  },
  {
   "cell_type": "markdown",
   "metadata": {},
   "source": [
    "#### putText"
   ]
  },
  {
   "cell_type": "code",
   "execution_count": null,
   "metadata": {},
   "outputs": [],
   "source": [
    "\n",
    "olive, violet, brown = (128, 128, 0), (221, 160, 221), (42, 42, 165)\n",
    "pt1, pt2 = (50, 200), (50, 260)\n",
    "\n",
    "image = np.zeros((300, 500, 3), np.uint8)\n",
    "image.fill(255)\n",
    "\n",
    "cv2.putText(image, \"SIMPLEX\", (50, 50) , cv2.FONT_HERSHEY_SIMPLEX, 2, brown)\n",
    "cv2.putText(image, \"DUPLEX\" , (50, 130), cv2.FONT_HERSHEY_DUPLEX , 3, olive)\n",
    "cv2.putText(image, \"TRIPLEX\", pt1, cv2.FONT_HERSHEY_TRIPLEX, 2, violet)\n",
    "fontFace = cv2.FONT_HERSHEY_PLAIN | cv2.FONT_ITALIC \n",
    "cv2.putText(image, \"ITALIC\" , pt2, fontFace, 4, violet)\n",
    "\n",
    "cv2.imshow(\"Put Text\", image)\n",
    "cv2.waitKey(0)\n",
    "cv2.destroyAllWindows()"
   ]
  },
  {
   "cell_type": "markdown",
   "metadata": {},
   "source": [
    "#### circle(img, center, raduis, color)\n",
    "- "
   ]
  },
  {
   "cell_type": "code",
   "execution_count": null,
   "metadata": {},
   "outputs": [],
   "source": [
    "orange, blue, cyan = (0, 165, 255), (255, 0, 0), (255, 255, 0)\n",
    "white, black = (255, 255, 255), (0, 0, 0)\n",
    "# 컬러 영상 생성 및 초기화\n",
    "image = np.full((300, 500, 3), white, np.uint8)\n",
    "\n",
    "# 영상 중심 좌표 - 역순 \n",
    "center = (image.shape[1]//2, image.shape[0]//2)\n",
    "pt1, pt2 = (300, 50), (100, 220)\n",
    "# 그림자 좌표\n",
    "shade = (pt2[0] + 2, pt2[1] + 2)\n",
    "\n",
    "# 원 그리기\n",
    "cv2.circle(image, center, 100, blue)\n",
    "cv2.circle(image, pt1   , 50 , orange, 2)\n",
    "cv2.circle(image, pt2   , 70 , cyan  , -1) # 내부 채움\n",
    "\n",
    "font = cv2.FONT_HERSHEY_COMPLEX;\n",
    "cv2.putText(image, \"center_blue\", center, font, 1.0, blue)\n",
    "cv2.putText(image, \"pt1_orange\", pt1, font, 0.8, orange)\n",
    "# 그림자 효과\n",
    "cv2.putText(image, \"pt2_cyan\",   shade, font, 1.2, black, 2)\n",
    "cv2.putText(image, \"pt2_cyan\",   pt2, font, 1.2, cyan , 1)\n",
    "\n",
    "title = \"Draw circles\"\n",
    "cv2.namedWindow(title)\n",
    "cv2.imshow(title, image)\n",
    "cv2.waitKey(0)\n",
    "cv2.destroyAllWindows()  "
   ]
  },
  {
   "cell_type": "markdown",
   "metadata": {},
   "source": [
    "#### epllipse()"
   ]
  },
  {
   "cell_type": "code",
   "execution_count": null,
   "metadata": {},
   "outputs": [],
   "source": [
    "orange, blue, white = (0, 165, 255), (255, 0, 0), (255,255,255) \n",
    "\n",
    "# 3채널 행성 생성 및 초기화\n",
    "image = np.full((300, 700, 3), white, np.uint8)\n",
    "\n",
    "# 타원의 중심점\n",
    "pt1, pt2 = (180, 150), (550, 150)\n",
    "size = (120, 60)\n",
    "\n",
    "# 타원의 중심점 표시\n",
    "cv2.circle(image, pt1, 1, 0, 2)\n",
    "cv2.circle(image, pt2, 1, 0, 2)\n",
    "\n",
    "# 타원과 호 그리기\n",
    "cv2.ellipse(image, pt1, size,  0, 0, 360, blue, 1)\n",
    "cv2.ellipse(image, pt2, size, 90, 0, 360, blue, 1) \n",
    "cv2.ellipse(image, pt1, size,  0, 30, 270, orange, 4)\n",
    "cv2.ellipse(image, pt2, size, 90,-45,  90, orange, 4)\n",
    "\n",
    "cv2.imshow(\"Draw Eclipse & Arc\", image)\n",
    "cv2.waitKey(0)\n",
    "cv2.destroyAllWindows()"
   ]
  },
  {
   "cell_type": "markdown",
   "metadata": {},
   "source": [
    "#### 마우스 이벤트 및 그리기 종합"
   ]
  },
  {
   "cell_type": "code",
   "execution_count": 15,
   "metadata": {},
   "outputs": [
    {
     "data": {
      "text/plain": [
       "-1"
      ]
     },
     "execution_count": 15,
     "metadata": {},
     "output_type": "execute_result"
    }
   ],
   "source": [
    "import numpy as np\n",
    "import cv2\n",
    "\n",
    "def onMouse(event, x, y, flags, param):\n",
    "  global title, pt\n",
    "\n",
    "  if event == cv2.EVENT_LBUTTONDOWN:\n",
    "    if pt[0] < 0:\n",
    "      pt = (x, y) \n",
    "    else:\n",
    "      cv2.rectangle(image, pt, (x, y), (255,0,0), 2)\n",
    "      cv2.imshow(title, image)\n",
    "      pt = (-1, -1)\n",
    "\n",
    "  elif event == cv2.EVENT_RBUTTONDOWN:\n",
    "    if pt[0] < 0: pt = (x, y)\n",
    "    else:\n",
    "      dx, dy = pt[0] - x, pt[1] - y \n",
    "      radius = int(np.sqrt(dx * dx + dy * dy))\n",
    "      cv2.circle(image, pt, radius, (0,0,255), 2)\n",
    "      cv2.imshow(title, image)\n",
    "      pt = (-1, -1)\n",
    "\n",
    "image = np.full((300, 500, 3), (255, 255, 255), np.uint8)\n",
    "\n",
    "pt = (-1, -1)\n",
    "title = \"Draw Event\"\n",
    "cv2.imshow(title, image)\n",
    "cv2.setMouseCallback(title, onMouse)\n",
    "cv2.waitKey(0)\n"
   ]
  },
  {
   "cell_type": "code",
   "execution_count": 2,
   "metadata": {},
   "outputs": [],
   "source": [
    "# 9번\n",
    "blue = (0, 0, 255)\n",
    "image = np.zeros((600, 400, 3), np.uint8)\n",
    "image[:] = (255,255,255)\n",
    "\n",
    "# 사각형 그리기\n",
    "cv2.rectangle(image, (100, 100,200,300), blue, cv2.FILLED)\n",
    "\n",
    "cv2.imshow('9', image)\n",
    "cv2.waitKey(0)\n",
    "cv2.destroyAllWindows()"
   ]
  },
  {
   "cell_type": "code",
   "execution_count": 3,
   "metadata": {},
   "outputs": [],
   "source": [
    "# 6번\n",
    "blue = (204, 204, 204)\n",
    "image = np.zeros((500, 600, 3), np.uint8)\n",
    "image[:] = (255,255,255)\n",
    "\n",
    "# 사각형 그리기\n",
    "cv2.rectangle(image, (50, 50,300,400), blue, cv2.FILLED)    \n",
    "\n",
    "cv2.imshow('6', image)\n",
    "cv2.waitKey(0)\n",
    "cv2.destroyAllWindows()"
   ]
  }
 ],
 "metadata": {
  "kernelspec": {
   "display_name": "Python 3.9.12 ('base')",
   "language": "python",
   "name": "python3"
  },
  "language_info": {
   "codemirror_mode": {
    "name": "ipython",
    "version": 3
   },
   "file_extension": ".py",
   "mimetype": "text/x-python",
   "name": "python",
   "nbconvert_exporter": "python",
   "pygments_lexer": "ipython3",
   "version": "3.9.12"
  },
  "orig_nbformat": 4,
  "vscode": {
   "interpreter": {
    "hash": "fc3f988826e34d50f8212913697013e34bce1c02d89c8e986a169f9fc3324573"
   }
  }
 },
 "nbformat": 4,
 "nbformat_minor": 2
}
